{
 "cells": [
  {
   "cell_type": "markdown",
   "id": "63305b0f-ebb2-4f21-aef3-e21c5dd15111",
   "metadata": {},
   "source": [
    "## Installing Libraries"
   ]
  },
  {
   "cell_type": "code",
   "execution_count": 1,
   "id": "27d18341-ac6b-44f2-a065-40dc534d355d",
   "metadata": {},
   "outputs": [
    {
     "name": "stdout",
     "output_type": "stream",
     "text": [
      "Requirement already satisfied: numpy in c:\\users\\pc_2265\\anaconda3\\lib\\site-packages (1.20.3)\n"
     ]
    }
   ],
   "source": [
    "!pip install numpy"
   ]
  },
  {
   "cell_type": "markdown",
   "id": "613742b2-ecac-415a-92d7-4572d47c1341",
   "metadata": {},
   "source": [
    "## DataTypes & Attributes"
   ]
  },
  {
   "cell_type": "code",
   "execution_count": 2,
   "id": "9d3bc1a4-2a39-4c65-8519-7e6cc51653c0",
   "metadata": {},
   "outputs": [
    {
     "name": "stdout",
     "output_type": "stream",
     "text": [
      "a1.dtype :  int32\n",
      "a2.dtype :  float64\n",
      "a3.dtype :  int32\n",
      "--------------------------\n",
      "a1.type :  <class 'numpy.ndarray'>\n",
      "a2.type :  <class 'numpy.ndarray'>\n",
      "a3.type :  <class 'numpy.ndarray'>\n",
      "--------------------------\n",
      "a1.shape :  (3,)\n",
      "a2.shape :  (2, 3)\n",
      "a3.shape :  (2, 3, 3)\n",
      "--------------------------\n",
      "a1.dimension :  1\n",
      "a2.dimension :  2\n",
      "a3.dimension :  3\n",
      "--------------------------\n"
     ]
    },
    {
     "data": {
      "text/plain": [
       "array([[[ 1,  2,  3],\n",
       "        [ 4,  5,  6],\n",
       "        [ 7,  8,  9]],\n",
       "\n",
       "       [[10, 11, 12],\n",
       "        [13, 14, 15],\n",
       "        [16, 17, 18]]])"
      ]
     },
     "execution_count": 2,
     "metadata": {},
     "output_type": "execute_result"
    }
   ],
   "source": [
    "import numpy as np\n",
    "\n",
    "# numpy array\n",
    "a1 = np.array([1, 2, 3])\n",
    "a2 = np.array([[1, 2, 3.3], [4, 5, 6.5]])\n",
    "a3 = np.array([[[1, 2, 3], [4, 5, 6], [7, 8, 9]], \n",
    "              [[10, 11, 12], [13, 14, 15], [16, 17, 18]]])\n",
    "\n",
    "# a1 => vector\n",
    "# a2 and a3 => matrix\n",
    "\n",
    "print(\"a1.dtype : \", a1.dtype)\n",
    "print(\"a2.dtype : \", a2.dtype) \n",
    "print(\"a3.dtype : \", a3.dtype) \n",
    "\n",
    "print(\"--------------------------\")\n",
    "\n",
    "print(\"a1.type : \", type(a1)) # identifies the type of an object\n",
    "print(\"a2.type : \", type(a2)) \n",
    "print(\"a3.type : \", type(a3))  \n",
    "\n",
    "print(\"--------------------------\")\n",
    "\n",
    "print(\"a1.shape : \", a1.shape)\n",
    "print(\"a2.shape : \", a2.shape) \n",
    "print(\"a3.shape : \", a3.shape) \n",
    "\n",
    "print(\"--------------------------\")\n",
    "\n",
    "print(\"a1.dimension : \", a1.ndim)\n",
    "print(\"a2.dimension : \", a2.ndim) \n",
    "print(\"a3.dimension : \", a3.ndim)\n",
    "\n",
    "print(\"--------------------------\")\n",
    "\n",
    "a3"
   ]
  },
  {
   "cell_type": "code",
   "execution_count": 3,
   "id": "7ce64b35-912b-4cb4-9109-31d59438839c",
   "metadata": {},
   "outputs": [
    {
     "data": {
      "text/html": [
       "<div>\n",
       "<style scoped>\n",
       "    .dataframe tbody tr th:only-of-type {\n",
       "        vertical-align: middle;\n",
       "    }\n",
       "\n",
       "    .dataframe tbody tr th {\n",
       "        vertical-align: top;\n",
       "    }\n",
       "\n",
       "    .dataframe thead th {\n",
       "        text-align: right;\n",
       "    }\n",
       "</style>\n",
       "<table border=\"1\" class=\"dataframe\">\n",
       "  <thead>\n",
       "    <tr style=\"text-align: right;\">\n",
       "      <th></th>\n",
       "      <th>0</th>\n",
       "      <th>1</th>\n",
       "      <th>2</th>\n",
       "    </tr>\n",
       "  </thead>\n",
       "  <tbody>\n",
       "    <tr>\n",
       "      <th>0</th>\n",
       "      <td>1.0</td>\n",
       "      <td>2.0</td>\n",
       "      <td>3.3</td>\n",
       "    </tr>\n",
       "    <tr>\n",
       "      <th>1</th>\n",
       "      <td>4.0</td>\n",
       "      <td>5.0</td>\n",
       "      <td>6.5</td>\n",
       "    </tr>\n",
       "  </tbody>\n",
       "</table>\n",
       "</div>"
      ],
      "text/plain": [
       "     0    1    2\n",
       "0  1.0  2.0  3.3\n",
       "1  4.0  5.0  6.5"
      ]
     },
     "execution_count": 3,
     "metadata": {},
     "output_type": "execute_result"
    }
   ],
   "source": [
    "# Create dataframe from numpy array\n",
    "\n",
    "import pandas as pd\n",
    "\n",
    "a2 = np.array([[1, 2, 3.3], [4, 5, 6.5]])\n",
    "df = pd.DataFrame(a2)\n",
    "df"
   ]
  },
  {
   "cell_type": "markdown",
   "id": "6ba40d5c-8d70-4a23-bfeb-1f1918c11ed4",
   "metadata": {},
   "source": [
    "## Creating Arrays"
   ]
  },
  {
   "cell_type": "code",
   "execution_count": 4,
   "id": "afa70bae-3774-48e5-b81c-dddc8ffa0532",
   "metadata": {},
   "outputs": [
    {
     "name": "stdout",
     "output_type": "stream",
     "text": [
      "sample_array_float.dtype :  float64\n",
      "sample_array_int.dtype :  int32\n"
     ]
    }
   ],
   "source": [
    "# Let's remember a trick\n",
    "\n",
    "sample_array_float = np.array([1., 1., 1.])\n",
    "sample_array_int = np.array([1, 1, 1])\n",
    "\n",
    "print(\"sample_array_float.dtype : \", sample_array_float.dtype)\n",
    "print(\"sample_array_int.dtype : \", sample_array_int.dtype)"
   ]
  },
  {
   "cell_type": "code",
   "execution_count": 5,
   "id": "eebfa34e-57eb-488a-9367-5d69d8a48c42",
   "metadata": {},
   "outputs": [
    {
     "name": "stdout",
     "output_type": "stream",
     "text": [
      "ones.dtype :  float64\n",
      "ones.type :  <class 'numpy.ndarray'>\n"
     ]
    },
    {
     "data": {
      "text/plain": [
       "array([[1., 1., 1.],\n",
       "       [1., 1., 1.]])"
      ]
     },
     "execution_count": 5,
     "metadata": {},
     "output_type": "execute_result"
    }
   ],
   "source": [
    "ones = np.ones((2, 3))\n",
    "\n",
    "print(\"ones.dtype : \", ones.dtype)\n",
    "print(\"ones.type : \", type(ones)) \n",
    "ones"
   ]
  },
  {
   "cell_type": "code",
   "execution_count": 6,
   "id": "b05f53f0-cba5-4620-b7bb-4356564953be",
   "metadata": {},
   "outputs": [
    {
     "name": "stdout",
     "output_type": "stream",
     "text": [
      "zeros.dtype :  float64\n",
      "zeros.type :  <class 'numpy.ndarray'>\n"
     ]
    },
    {
     "data": {
      "text/plain": [
       "array([[0., 0., 0.],\n",
       "       [0., 0., 0.]])"
      ]
     },
     "execution_count": 6,
     "metadata": {},
     "output_type": "execute_result"
    }
   ],
   "source": [
    "zeros = np.zeros((2, 3))\n",
    "\n",
    "print(\"zeros.dtype : \", zeros.dtype)\n",
    "print(\"zeros.type : \", type(zeros)) \n",
    "zeros"
   ]
  },
  {
   "cell_type": "code",
   "execution_count": 7,
   "id": "38825bae-d266-41b3-9dd9-e0f198addfbc",
   "metadata": {},
   "outputs": [
    {
     "data": {
      "text/plain": [
       "array([0, 2, 4, 6, 8])"
      ]
     },
     "execution_count": 7,
     "metadata": {},
     "output_type": "execute_result"
    }
   ],
   "source": [
    "# arange() function\n",
    "# np.arange(start, stop, step)\n",
    "range_array = np.arange(0, 10, 2)\n",
    "range_array"
   ]
  },
  {
   "cell_type": "code",
   "execution_count": 8,
   "id": "8184c2c9-ca9b-4078-b714-c60269ffe792",
   "metadata": {},
   "outputs": [
    {
     "name": "stdout",
     "output_type": "stream",
     "text": [
      "random_array.dtype :  int32\n",
      "random_array.shape :  (3, 5)\n"
     ]
    },
    {
     "data": {
      "text/plain": [
       "array([[6, 8, 0, 9, 0],\n",
       "       [6, 4, 5, 2, 5],\n",
       "       [0, 4, 1, 1, 4]])"
      ]
     },
     "execution_count": 8,
     "metadata": {},
     "output_type": "execute_result"
    }
   ],
   "source": [
    "# random() function #1\n",
    "# np.random.randint(low, high, size)\n",
    "random_array = np.random.randint(0, 10, size=(3,5))\n",
    "\n",
    "print(\"random_array.dtype : \", random_array.dtype)\n",
    "print(\"random_array.shape : \", random_array.shape) \n",
    "random_array"
   ]
  },
  {
   "cell_type": "code",
   "execution_count": 9,
   "id": "9b76e3bd-693f-4b46-ac22-9162a56e7b22",
   "metadata": {},
   "outputs": [
    {
     "data": {
      "text/plain": [
       "array([[0.72209938, 0.59365526, 0.62551049, 0.14691954, 0.82324295],\n",
       "       [0.10789865, 0.05891894, 0.60437841, 0.27247466, 0.04125331],\n",
       "       [0.2028377 , 0.35177067, 0.28995858, 0.05756617, 0.04548066]])"
      ]
     },
     "execution_count": 9,
     "metadata": {},
     "output_type": "execute_result"
    }
   ],
   "source": [
    "# random() function #2\n",
    "# np.random.rand(3, 5)\n",
    "np.random.random((3, 5)) # [0.0, 1.0) "
   ]
  },
  {
   "cell_type": "code",
   "execution_count": 10,
   "id": "0ce8e3e8-1207-424e-8a8f-6a9b41ae377f",
   "metadata": {},
   "outputs": [
    {
     "data": {
      "text/plain": [
       "array([[5, 0, 3, 3, 7, 9, 3, 5, 2, 4],\n",
       "       [7, 6, 8, 8, 1, 6, 7, 7, 8, 1]])"
      ]
     },
     "execution_count": 10,
     "metadata": {},
     "output_type": "execute_result"
    }
   ],
   "source": [
    "# seed() function\n",
    "# Seed function is used to save the state of a random function, \n",
    "# so that it can generate same random numbers on multiple executions of the code on the same machine or on different machines (for a specific seed value).\n",
    "np.random.seed(0) \n",
    "seed_random = np.random.randint(0, 10, size=(2, 10))\n",
    "seed_random"
   ]
  },
  {
   "cell_type": "code",
   "execution_count": 11,
   "id": "87475303-4045-4e0e-97f4-57fab7e27176",
   "metadata": {},
   "outputs": [
    {
     "data": {
      "text/plain": [
       "array([0, 1, 2, 3, 4, 5, 6, 7, 8, 9])"
      ]
     },
     "execution_count": 11,
     "metadata": {},
     "output_type": "execute_result"
    }
   ],
   "source": [
    "# unique() function\n",
    "# Find the unique elements of an array\n",
    "unique = np.unique(seed_random)\n",
    "unique"
   ]
  },
  {
   "cell_type": "markdown",
   "id": "4ab87eab-8174-4178-827a-b29f54dcf43e",
   "metadata": {
    "tags": []
   },
   "source": [
    "## Viewing Arrays & Matrices\n",
    "\n",
    "![alt text](matrix.png \"Matrix\")\n",
    "\n",
    "##### Source: \"https://www.onlinemathlearning.com/\""
   ]
  },
  {
   "cell_type": "code",
   "execution_count": 12,
   "id": "8589e42a-3fd6-4dce-a6c0-c88ea6de2c0f",
   "metadata": {},
   "outputs": [
    {
     "data": {
      "text/plain": [
       "array([1, 2, 3])"
      ]
     },
     "execution_count": 12,
     "metadata": {},
     "output_type": "execute_result"
    }
   ],
   "source": [
    "# Viewing array #1\n",
    "a1"
   ]
  },
  {
   "cell_type": "code",
   "execution_count": 13,
   "id": "de1f697e-02ab-4da0-bc46-bbb93796d8a4",
   "metadata": {},
   "outputs": [
    {
     "data": {
      "text/plain": [
       "array([1, 2, 3])"
      ]
     },
     "execution_count": 13,
     "metadata": {},
     "output_type": "execute_result"
    }
   ],
   "source": [
    "a1"
   ]
  },
  {
   "cell_type": "code",
   "execution_count": 14,
   "id": "c60b330d-2984-43a6-bbc1-006b157a7b21",
   "metadata": {},
   "outputs": [
    {
     "data": {
      "text/plain": [
       "(3,)"
      ]
     },
     "execution_count": 14,
     "metadata": {},
     "output_type": "execute_result"
    }
   ],
   "source": [
    "a1.shape"
   ]
  },
  {
   "cell_type": "code",
   "execution_count": 15,
   "id": "71c84270-358a-4cdd-83ff-585dff968e34",
   "metadata": {},
   "outputs": [
    {
     "data": {
      "text/plain": [
       "array([1, 2])"
      ]
     },
     "execution_count": 15,
     "metadata": {},
     "output_type": "execute_result"
    }
   ],
   "source": [
    "a1[:2]"
   ]
  },
  {
   "cell_type": "code",
   "execution_count": 16,
   "id": "e442097e-7598-4074-a0cd-fa96045d4905",
   "metadata": {
    "tags": []
   },
   "outputs": [
    {
     "data": {
      "text/plain": [
       "array([[[ 1,  2,  3],\n",
       "        [ 4,  5,  6],\n",
       "        [ 7,  8,  9]],\n",
       "\n",
       "       [[10, 11, 12],\n",
       "        [13, 14, 15],\n",
       "        [16, 17, 18]]])"
      ]
     },
     "execution_count": 16,
     "metadata": {},
     "output_type": "execute_result"
    }
   ],
   "source": [
    "# Viewing array #2\n",
    "a3"
   ]
  },
  {
   "cell_type": "code",
   "execution_count": 17,
   "id": "d59cd7ad-8418-400d-8b39-1c736bfa290c",
   "metadata": {},
   "outputs": [
    {
     "data": {
      "text/plain": [
       "(2, 3, 3)"
      ]
     },
     "execution_count": 17,
     "metadata": {},
     "output_type": "execute_result"
    }
   ],
   "source": [
    "a3.shape"
   ]
  },
  {
   "cell_type": "code",
   "execution_count": 18,
   "id": "f70dd132-4442-4270-823b-cf96a9f54d23",
   "metadata": {
    "tags": []
   },
   "outputs": [
    {
     "data": {
      "text/plain": [
       "array([[1, 2, 3],\n",
       "       [4, 5, 6],\n",
       "       [7, 8, 9]])"
      ]
     },
     "execution_count": 18,
     "metadata": {},
     "output_type": "execute_result"
    }
   ],
   "source": [
    "a3[0]"
   ]
  },
  {
   "cell_type": "code",
   "execution_count": 19,
   "id": "f9d66807-20a8-4305-8f3c-36fc3ee8809a",
   "metadata": {},
   "outputs": [
    {
     "data": {
      "text/plain": [
       "array([[[ 1,  2,  3],\n",
       "        [ 4,  5,  6],\n",
       "        [ 7,  8,  9]],\n",
       "\n",
       "       [[10, 11, 12],\n",
       "        [13, 14, 15],\n",
       "        [16, 17, 18]]])"
      ]
     },
     "execution_count": 19,
     "metadata": {},
     "output_type": "execute_result"
    }
   ],
   "source": [
    "a3[:2]"
   ]
  },
  {
   "cell_type": "code",
   "execution_count": 20,
   "id": "0e8ff64d-2e8b-4790-bfb1-406a0c8e25b9",
   "metadata": {},
   "outputs": [
    {
     "data": {
      "text/plain": [
       "array([[[ 1,  2],\n",
       "        [ 4,  5]],\n",
       "\n",
       "       [[10, 11],\n",
       "        [13, 14]]])"
      ]
     },
     "execution_count": 20,
     "metadata": {},
     "output_type": "execute_result"
    }
   ],
   "source": [
    "a3[:2, :2, :2]"
   ]
  },
  {
   "cell_type": "code",
   "execution_count": 21,
   "id": "c1c2b824-9110-4510-837e-c91b8dee2757",
   "metadata": {},
   "outputs": [
    {
     "data": {
      "text/plain": [
       "array([[[[5, 9, 8, 9, 4],\n",
       "         [3, 0, 3, 5, 0],\n",
       "         [2, 3, 8, 1, 3],\n",
       "         [3, 3, 7, 0, 1]],\n",
       "\n",
       "        [[9, 9, 0, 4, 7],\n",
       "         [3, 2, 7, 2, 0],\n",
       "         [0, 4, 5, 5, 6],\n",
       "         [8, 4, 1, 4, 9]],\n",
       "\n",
       "        [[8, 1, 1, 7, 9],\n",
       "         [9, 3, 6, 7, 2],\n",
       "         [0, 3, 5, 9, 4],\n",
       "         [4, 6, 4, 4, 3]]],\n",
       "\n",
       "\n",
       "       [[[4, 4, 8, 4, 3],\n",
       "         [7, 5, 5, 0, 1],\n",
       "         [5, 9, 3, 0, 5],\n",
       "         [0, 1, 2, 4, 2]],\n",
       "\n",
       "        [[0, 3, 2, 0, 7],\n",
       "         [5, 9, 0, 2, 7],\n",
       "         [2, 9, 2, 3, 3],\n",
       "         [2, 3, 4, 1, 2]],\n",
       "\n",
       "        [[9, 1, 4, 6, 8],\n",
       "         [2, 3, 0, 0, 6],\n",
       "         [0, 6, 3, 3, 8],\n",
       "         [8, 8, 2, 3, 2]]]])"
      ]
     },
     "execution_count": 21,
     "metadata": {},
     "output_type": "execute_result"
    }
   ],
   "source": [
    "# Viewing array #3\n",
    "different_size_random_array = np.random.randint(0, 10, size=(2, 3, 4, 5))\n",
    "different_size_random_array # 2 rows, 3 columns, inner matrices's shapes are (4, 5) "
   ]
  },
  {
   "cell_type": "code",
   "execution_count": 22,
   "id": "7a63849c-6803-4a06-8d6d-1e17dc539160",
   "metadata": {},
   "outputs": [
    {
     "data": {
      "text/plain": [
       "array([[[[5, 9],\n",
       "         [3, 0],\n",
       "         [2, 3],\n",
       "         [3, 3]],\n",
       "\n",
       "        [[9, 9],\n",
       "         [3, 2],\n",
       "         [0, 4],\n",
       "         [8, 4]],\n",
       "\n",
       "        [[8, 1],\n",
       "         [9, 3],\n",
       "         [0, 3],\n",
       "         [4, 6]]],\n",
       "\n",
       "\n",
       "       [[[4, 4],\n",
       "         [7, 5],\n",
       "         [5, 9],\n",
       "         [0, 1]],\n",
       "\n",
       "        [[0, 3],\n",
       "         [5, 9],\n",
       "         [2, 9],\n",
       "         [2, 3]],\n",
       "\n",
       "        [[9, 1],\n",
       "         [2, 3],\n",
       "         [0, 6],\n",
       "         [8, 8]]]])"
      ]
     },
     "execution_count": 22,
     "metadata": {},
     "output_type": "execute_result"
    }
   ],
   "source": [
    "different_size_random_array[:, :, :, :2]"
   ]
  },
  {
   "cell_type": "markdown",
   "id": "a5da7670-9e3f-4358-bc4e-00db2f12441d",
   "metadata": {},
   "source": [
    "## Manipulating & Comparing Arrays"
   ]
  },
  {
   "cell_type": "markdown",
   "id": "5a7543b7-f9a8-469c-a7c9-c31fcf7d9bf2",
   "metadata": {},
   "source": [
    "### Arithmetic Operations\n",
    "\n",
    "![alt text](arithmetic_operations.png \"Arithmetic Operations\")\n",
    "\n",
    "##### Source: \"https://www.devopsschool.com/blog/\""
   ]
  },
  {
   "cell_type": "code",
   "execution_count": 23,
   "id": "88774c36-3629-4f12-8aa7-7e5e877e4a14",
   "metadata": {},
   "outputs": [
    {
     "data": {
      "text/plain": [
       "array([1, 2, 3])"
      ]
     },
     "execution_count": 23,
     "metadata": {},
     "output_type": "execute_result"
    }
   ],
   "source": [
    "# let's remember a1 and it's shape\n",
    "a1"
   ]
  },
  {
   "cell_type": "code",
   "execution_count": 24,
   "id": "b5de78ca-7d2b-4016-acfc-0051c0450311",
   "metadata": {},
   "outputs": [
    {
     "name": "stdout",
     "output_type": "stream",
     "text": [
      "a1.shape :  (3,)\n"
     ]
    }
   ],
   "source": [
    "print(\"a1.shape : \", a1.shape)"
   ]
  },
  {
   "cell_type": "code",
   "execution_count": 25,
   "id": "9ebc0604-1774-4c5d-afe0-d80a2ca5789e",
   "metadata": {},
   "outputs": [
    {
     "data": {
      "text/plain": [
       "array([1., 1., 1.])"
      ]
     },
     "execution_count": 25,
     "metadata": {},
     "output_type": "execute_result"
    }
   ],
   "source": [
    "ones = np.ones((3))\n",
    "ones"
   ]
  },
  {
   "cell_type": "code",
   "execution_count": 26,
   "id": "d0b5d3b7-ddbf-4e74-a580-b195afb6713d",
   "metadata": {},
   "outputs": [
    {
     "data": {
      "text/plain": [
       "array([2., 3., 4.])"
      ]
     },
     "execution_count": 26,
     "metadata": {},
     "output_type": "execute_result"
    }
   ],
   "source": [
    "a1 + ones"
   ]
  },
  {
   "cell_type": "code",
   "execution_count": 27,
   "id": "af3d4428-ff39-42f2-bce7-80d420e3eeb0",
   "metadata": {},
   "outputs": [
    {
     "data": {
      "text/plain": [
       "array([0., 1., 2.])"
      ]
     },
     "execution_count": 27,
     "metadata": {},
     "output_type": "execute_result"
    }
   ],
   "source": [
    "a1 - ones"
   ]
  },
  {
   "cell_type": "code",
   "execution_count": 28,
   "id": "ca500a09-adff-486c-bbb9-ad0346e7b13d",
   "metadata": {},
   "outputs": [
    {
     "data": {
      "text/plain": [
       "array([1., 2., 3.])"
      ]
     },
     "execution_count": 28,
     "metadata": {},
     "output_type": "execute_result"
    }
   ],
   "source": [
    "a1 * ones"
   ]
  },
  {
   "cell_type": "code",
   "execution_count": 29,
   "id": "91745ebb-295d-480a-83a4-6cbf9ae76f74",
   "metadata": {},
   "outputs": [
    {
     "data": {
      "text/plain": [
       "array([[1. , 2. , 3.3],\n",
       "       [4. , 5. , 6.5]])"
      ]
     },
     "execution_count": 29,
     "metadata": {},
     "output_type": "execute_result"
    }
   ],
   "source": [
    "# let's remember a2 and it's shape\n",
    "a2"
   ]
  },
  {
   "cell_type": "code",
   "execution_count": 30,
   "id": "ac617b91-2b3b-42be-a541-72b24c675f3f",
   "metadata": {},
   "outputs": [
    {
     "name": "stdout",
     "output_type": "stream",
     "text": [
      "a2.shape :  (2, 3)\n"
     ]
    }
   ],
   "source": [
    "print(\"a2.shape : \", a2.shape)"
   ]
  },
  {
   "cell_type": "code",
   "execution_count": 31,
   "id": "a351623c-63e6-4bd3-a01e-69cf9e490d04",
   "metadata": {},
   "outputs": [
    {
     "data": {
      "text/plain": [
       "array([[ 1. ,  4. ,  9.9],\n",
       "       [ 4. , 10. , 19.5]])"
      ]
     },
     "execution_count": 31,
     "metadata": {},
     "output_type": "execute_result"
    }
   ],
   "source": [
    "result = a1 * a2\n",
    "result"
   ]
  },
  {
   "cell_type": "code",
   "execution_count": 32,
   "id": "33166712-d730-4cb4-ab81-62f51f605d17",
   "metadata": {},
   "outputs": [
    {
     "data": {
      "text/plain": [
       "(2, 3)"
      ]
     },
     "execution_count": 32,
     "metadata": {},
     "output_type": "execute_result"
    }
   ],
   "source": [
    "result.shape"
   ]
  },
  {
   "cell_type": "code",
   "execution_count": 33,
   "id": "3508a0fe-7efa-4082-8e5e-fecfceb8aeac",
   "metadata": {},
   "outputs": [
    {
     "data": {
      "text/plain": [
       "array([[[ 1,  2,  3],\n",
       "        [ 4,  5,  6],\n",
       "        [ 7,  8,  9]],\n",
       "\n",
       "       [[10, 11, 12],\n",
       "        [13, 14, 15],\n",
       "        [16, 17, 18]]])"
      ]
     },
     "execution_count": 33,
     "metadata": {},
     "output_type": "execute_result"
    }
   ],
   "source": [
    "# let's remember a3 and it's shape\n",
    "a3"
   ]
  },
  {
   "cell_type": "code",
   "execution_count": 34,
   "id": "4098c9fc-04c4-4b14-a774-81ae7d5006bc",
   "metadata": {},
   "outputs": [
    {
     "name": "stdout",
     "output_type": "stream",
     "text": [
      "a3.shape :  (2, 3, 3)\n"
     ]
    }
   ],
   "source": [
    "print(\"a3.shape : \", a3.shape)"
   ]
  },
  {
   "cell_type": "code",
   "execution_count": 35,
   "id": "c086ce33-f379-4fbf-9357-b5b359bb707e",
   "metadata": {},
   "outputs": [],
   "source": [
    "# a2 * a3\n",
    "# Error => ValueError: operands could not be broadcast together with shapes (2, 3) (2, 3, 3) \n",
    "\n",
    "# Broadcast : The term broadcasting refers to how numpy treats arrays with different Dimension during arithmetic operations which lead to certain constraints, \n",
    "# the smaller array is broadcast across the larger array so that they have compatible shapes.\n",
    "\n",
    "# The problem is \"How can you reshape a2 to be compatible with a3?\""
   ]
  },
  {
   "cell_type": "code",
   "execution_count": 36,
   "id": "fab045f7-d0c4-43f1-a015-38675d56f39a",
   "metadata": {},
   "outputs": [
    {
     "data": {
      "text/plain": [
       "array([1., 2., 3.])"
      ]
     },
     "execution_count": 36,
     "metadata": {},
     "output_type": "execute_result"
    }
   ],
   "source": [
    "a1 / ones"
   ]
  },
  {
   "cell_type": "code",
   "execution_count": 37,
   "id": "106a3e2c-4f04-4915-811c-47279b0fbbd6",
   "metadata": {},
   "outputs": [
    {
     "data": {
      "text/plain": [
       "array([[1. , 2. , 3.3],\n",
       "       [4. , 5. , 6.5]])"
      ]
     },
     "execution_count": 37,
     "metadata": {},
     "output_type": "execute_result"
    }
   ],
   "source": [
    "a2 / ones"
   ]
  },
  {
   "cell_type": "code",
   "execution_count": 38,
   "id": "74fa9a0f-d385-4db8-80e0-fd9f0e90250c",
   "metadata": {},
   "outputs": [
    {
     "data": {
      "text/plain": [
       "array([[1., 2., 3.],\n",
       "       [4., 5., 6.]])"
      ]
     },
     "execution_count": 38,
     "metadata": {},
     "output_type": "execute_result"
    }
   ],
   "source": [
    "# Floor division removes the decimals (rounds down)\n",
    "a2 // ones"
   ]
  },
  {
   "cell_type": "code",
   "execution_count": 39,
   "id": "2120f75a-8928-40c4-8125-25bfd6d8c8ea",
   "metadata": {},
   "outputs": [
    {
     "data": {
      "text/plain": [
       "array([[ 1.  ,  4.  , 10.89],\n",
       "       [16.  , 25.  , 42.25]])"
      ]
     },
     "execution_count": 39,
     "metadata": {},
     "output_type": "execute_result"
    }
   ],
   "source": [
    "# Square #1\n",
    "a2 ** 2"
   ]
  },
  {
   "cell_type": "code",
   "execution_count": 40,
   "id": "ef7320ec-cef0-4121-a130-c5c0427a8a3f",
   "metadata": {},
   "outputs": [
    {
     "data": {
      "text/plain": [
       "array([[ 1.  ,  4.  , 10.89],\n",
       "       [16.  , 25.  , 42.25]])"
      ]
     },
     "execution_count": 40,
     "metadata": {},
     "output_type": "execute_result"
    }
   ],
   "source": [
    "# Square #2\n",
    "np.square(a2)"
   ]
  },
  {
   "cell_type": "code",
   "execution_count": 41,
   "id": "08d17d2e-44be-493f-ae3f-f6d759b1dda2",
   "metadata": {},
   "outputs": [
    {
     "data": {
      "text/plain": [
       "array([[2. , 4. , 6.3],\n",
       "       [5. , 7. , 9.5]])"
      ]
     },
     "execution_count": 41,
     "metadata": {},
     "output_type": "execute_result"
    }
   ],
   "source": [
    "# Add\n",
    "np.add(a1, a2)"
   ]
  },
  {
   "cell_type": "code",
   "execution_count": 42,
   "id": "8ca60e14-a17e-484c-8240-979069f2e344",
   "metadata": {},
   "outputs": [
    {
     "data": {
      "text/plain": [
       "array([1, 0, 1], dtype=int32)"
      ]
     },
     "execution_count": 42,
     "metadata": {},
     "output_type": "execute_result"
    }
   ],
   "source": [
    "# Mod #1\n",
    "a1 % 2"
   ]
  },
  {
   "cell_type": "code",
   "execution_count": 43,
   "id": "4ac2991a-5315-425a-aa7c-ee618462b562",
   "metadata": {},
   "outputs": [
    {
     "data": {
      "text/plain": [
       "array([1, 0, 1], dtype=int32)"
      ]
     },
     "execution_count": 43,
     "metadata": {},
     "output_type": "execute_result"
    }
   ],
   "source": [
    "# Mod #2\n",
    "np.mod(a1, 2)"
   ]
  },
  {
   "cell_type": "code",
   "execution_count": 44,
   "id": "180a294a-fcf6-4483-b3f2-0a077b66fd95",
   "metadata": {},
   "outputs": [
    {
     "data": {
      "text/plain": [
       "array([0.        , 0.69314718, 1.09861229])"
      ]
     },
     "execution_count": 44,
     "metadata": {},
     "output_type": "execute_result"
    }
   ],
   "source": [
    "# Logarithm\n",
    "np.log(a1)"
   ]
  },
  {
   "cell_type": "code",
   "execution_count": 45,
   "id": "ee18860e-faba-4fb2-aca2-42a0cef95f5b",
   "metadata": {},
   "outputs": [
    {
     "data": {
      "text/plain": [
       "array([[  2.71828183,   7.3890561 ,  27.11263892],\n",
       "       [ 54.59815003, 148.4131591 , 665.14163304]])"
      ]
     },
     "execution_count": 45,
     "metadata": {},
     "output_type": "execute_result"
    }
   ],
   "source": [
    "# Exponential\n",
    "np.exp(a2)"
   ]
  },
  {
   "cell_type": "markdown",
   "id": "cc2706e3-d89b-4c09-807f-b6553c0535bf",
   "metadata": {},
   "source": [
    "### Aggregation"
   ]
  },
  {
   "cell_type": "markdown",
   "id": "a3ac30c1-5221-4ff0-a0c8-b44b274ae89d",
   "metadata": {},
   "source": [
    "The aggregation is performing the same operation on a number of things"
   ]
  },
  {
   "cell_type": "code",
   "execution_count": 46,
   "id": "6d044b95-c7ec-439d-9282-50f427010ff7",
   "metadata": {},
   "outputs": [
    {
     "data": {
      "text/plain": [
       "array([1, 2, 3])"
      ]
     },
     "execution_count": 46,
     "metadata": {},
     "output_type": "execute_result"
    }
   ],
   "source": [
    "a1"
   ]
  },
  {
   "cell_type": "code",
   "execution_count": 47,
   "id": "0b5fe525-cb4c-4ced-bb34-91bcbc1ad0fd",
   "metadata": {},
   "outputs": [
    {
     "data": {
      "text/plain": [
       "numpy.ndarray"
      ]
     },
     "execution_count": 47,
     "metadata": {},
     "output_type": "execute_result"
    }
   ],
   "source": [
    "# a1 is numpy array\n",
    "type(a1)"
   ]
  },
  {
   "cell_type": "code",
   "execution_count": 48,
   "id": "204ae486-cbd2-46d5-a7b4-bdb8f482f3c3",
   "metadata": {},
   "outputs": [
    {
     "data": {
      "text/plain": [
       "6"
      ]
     },
     "execution_count": 48,
     "metadata": {},
     "output_type": "execute_result"
    }
   ],
   "source": [
    "# Python's sum()\n",
    "sum(a1)"
   ]
  },
  {
   "cell_type": "code",
   "execution_count": 49,
   "id": "c13c2648-f48a-4408-99ed-505d94f3d19a",
   "metadata": {},
   "outputs": [
    {
     "data": {
      "text/plain": [
       "6"
      ]
     },
     "execution_count": 49,
     "metadata": {},
     "output_type": "execute_result"
    }
   ],
   "source": [
    "# Numpy's sum()\n",
    "np.sum(a1)"
   ]
  },
  {
   "cell_type": "code",
   "execution_count": 50,
   "id": "f6086e33-3a2b-417e-9761-dc426ce16e27",
   "metadata": {},
   "outputs": [],
   "source": [
    "# What is the difference between sum and np.sum?\n",
    "# Use Python's methods (sum()) on Python datatypes and use Numpy's methods (np.sum()) on Numpy arrays"
   ]
  },
  {
   "cell_type": "code",
   "execution_count": 51,
   "id": "9e7b38ef-36ef-455d-9775-0bdb707b4c32",
   "metadata": {},
   "outputs": [
    {
     "data": {
      "text/plain": [
       "100000"
      ]
     },
     "execution_count": 51,
     "metadata": {},
     "output_type": "execute_result"
    }
   ],
   "source": [
    "# Creative a massive Numpy array\n",
    "massive_array = np.random.random(100000)\n",
    "massive_array.size"
   ]
  },
  {
   "cell_type": "code",
   "execution_count": 52,
   "id": "5c517ee7-d4f5-4278-8caf-47682ccdcfb2",
   "metadata": {},
   "outputs": [
    {
     "data": {
      "text/plain": [
       "array([0.28847644, 0.43328806, 0.75610669, 0.39609828, 0.89603839,\n",
       "       0.63892108, 0.89155444, 0.68005557, 0.44919774, 0.97857093])"
      ]
     },
     "execution_count": 52,
     "metadata": {},
     "output_type": "execute_result"
    }
   ],
   "source": [
    "massive_array[:10]"
   ]
  },
  {
   "cell_type": "code",
   "execution_count": 53,
   "id": "237f353d-d824-4e04-bcd3-7a7c52043ead",
   "metadata": {},
   "outputs": [
    {
     "name": "stdout",
     "output_type": "stream",
     "text": [
      "5.78 ms ± 109 µs per loop (mean ± std. dev. of 7 runs, 100 loops each)\n",
      "36.8 µs ± 896 ns per loop (mean ± std. dev. of 7 runs, 10000 loops each)\n"
     ]
    }
   ],
   "source": [
    "# %timeit is Jupyter's magic function, it measures execution time of code\n",
    "\n",
    "%timeit sum(massive_array) # Python's sum()\n",
    "%timeit np.sum(massive_array) # Numpy's sum()"
   ]
  },
  {
   "cell_type": "code",
   "execution_count": 54,
   "id": "00308350-afbd-46ae-ac4c-10e21bac0db1",
   "metadata": {},
   "outputs": [
    {
     "data": {
      "text/plain": [
       "160.85714285714286"
      ]
     },
     "execution_count": 54,
     "metadata": {},
     "output_type": "execute_result"
    }
   ],
   "source": [
    "# let's compare\n",
    "5.63 * 1000 / 35 # milliseconds to microseconds\n",
    "\n",
    "# Python's sum() is 160.85714285714286 times slower in Numpy array"
   ]
  },
  {
   "cell_type": "code",
   "execution_count": 55,
   "id": "ba978925-28f1-4fd0-89fd-e082f10f757e",
   "metadata": {},
   "outputs": [
    {
     "data": {
      "text/plain": [
       "6.5"
      ]
     },
     "execution_count": 55,
     "metadata": {},
     "output_type": "execute_result"
    }
   ],
   "source": [
    "np.max(a2)"
   ]
  },
  {
   "cell_type": "code",
   "execution_count": 56,
   "id": "e968d758-e3c9-4b53-b52d-e602d8efcbbb",
   "metadata": {},
   "outputs": [
    {
     "data": {
      "text/plain": [
       "1.0"
      ]
     },
     "execution_count": 56,
     "metadata": {},
     "output_type": "execute_result"
    }
   ],
   "source": [
    "np.min(a2)"
   ]
  },
  {
   "cell_type": "markdown",
   "id": "6c584b08-3397-4e5f-9001-4df934d92b8e",
   "metadata": {},
   "source": [
    "## Variance & Standard Deviation"
   ]
  },
  {
   "cell_type": "markdown",
   "id": "9d61dc9e-73a9-465f-a5ee-c1b47fbf1ff7",
   "metadata": {},
   "source": [
    "![alt text](std_var_formula.png \"Standard Deviation & Variance Formulas\")\n",
    "\n",
    "##### Source: \"https://byjus.com/\""
   ]
  },
  {
   "cell_type": "code",
   "execution_count": 57,
   "id": "11c9b564-c02f-4f0e-be48-720d1268e68d",
   "metadata": {},
   "outputs": [
    {
     "data": {
      "text/plain": [
       "1.8226964152656422"
      ]
     },
     "execution_count": 57,
     "metadata": {},
     "output_type": "execute_result"
    }
   ],
   "source": [
    "# Standard deviation => A measure of how spread out a group of numbers is from the mean\n",
    "# Standard deviation #1\n",
    "np.std(a2)"
   ]
  },
  {
   "cell_type": "code",
   "execution_count": 58,
   "id": "52063a45-9d8f-4221-b899-19dbe54c23c5",
   "metadata": {},
   "outputs": [
    {
     "data": {
      "text/plain": [
       "3.3222222222222224"
      ]
     },
     "execution_count": 58,
     "metadata": {},
     "output_type": "execute_result"
    }
   ],
   "source": [
    "# Variance => Measure of the average degree to which each number is different to the mean\n",
    "# Higher variance = wider range of numbers\n",
    "# lower variance = lower range of numbers\n",
    "\n",
    "np.var(a2)"
   ]
  },
  {
   "cell_type": "code",
   "execution_count": 59,
   "id": "59437898-b574-4f5b-976a-782f55d87624",
   "metadata": {},
   "outputs": [
    {
     "data": {
      "text/plain": [
       "1.8226964152656422"
      ]
     },
     "execution_count": 59,
     "metadata": {},
     "output_type": "execute_result"
    }
   ],
   "source": [
    "# Standard deviation #2\n",
    "np.sqrt(np.var(a2))"
   ]
  },
  {
   "cell_type": "markdown",
   "id": "1dd82fe1-8f53-4599-a835-b7356b3ed2e8",
   "metadata": {},
   "source": [
    "#### Let's look at the std and var demo:\n",
    "\n",
    "![alt text](std_var_demo1.gif \"Demo1\")\n",
    "\n",
    "##### Source: \"https://www.mathsisfun.com/\""
   ]
  },
  {
   "cell_type": "code",
   "execution_count": 60,
   "id": "d0f7c3e3-78fa-4b4e-96bc-7de9be596db2",
   "metadata": {},
   "outputs": [],
   "source": [
    "size_of_animals = np.array([600, 470, 170, 430, 300])"
   ]
  },
  {
   "cell_type": "code",
   "execution_count": 61,
   "id": "44525949-fa54-45b6-90d8-8e8f3c0d86bb",
   "metadata": {},
   "outputs": [
    {
     "data": {
      "text/plain": [
       "394.0"
      ]
     },
     "execution_count": 61,
     "metadata": {},
     "output_type": "execute_result"
    }
   ],
   "source": [
    "# calculation of mean\n",
    "mean_of_sizes = np.mean(size_of_animals)\n",
    "mean_of_sizes"
   ]
  },
  {
   "cell_type": "markdown",
   "id": "78f6b588-233b-40fd-b8b0-7813429b4cb5",
   "metadata": {},
   "source": [
    "#### The green line shows the average:\n",
    "\n",
    "![alt text](std_var_demo2.gif \"Demo2\")\n",
    "\n",
    "##### Source: \"https://www.mathsisfun.com/\""
   ]
  },
  {
   "cell_type": "code",
   "execution_count": 62,
   "id": "49583527-cae1-445a-b5c6-c59ed21a1293",
   "metadata": {},
   "outputs": [],
   "source": [
    "# calculation of variance\n",
    "# We can use Numpy function (np.var()), but let's apply the formula for now\n",
    "\n",
    "differences = size_of_animals - mean_of_sizes"
   ]
  },
  {
   "cell_type": "markdown",
   "id": "606c54f3-5420-4088-ba7b-3ae2017cd684",
   "metadata": {},
   "source": [
    "#### Difference from the mean of sizes:\n",
    "\n",
    "![alt text](std_var_demo3.gif \"Demo3\")\n",
    "\n",
    "##### Source: \"https://www.mathsisfun.com/\""
   ]
  },
  {
   "cell_type": "code",
   "execution_count": 63,
   "id": "a1c51b2a-8dde-45a2-93d0-7a2a368d8b42",
   "metadata": {},
   "outputs": [
    {
     "data": {
      "text/plain": [
       "21704.0"
      ]
     },
     "execution_count": 63,
     "metadata": {},
     "output_type": "execute_result"
    }
   ],
   "source": [
    "var_of_sizes = np.sum(np.square(differences)) / len(size_of_animals) # ((600-394)^2 + (470-394)^2 + (170-394)^2 + (430-394)^2 + (300-394)^2)) / 5\n",
    "var_of_sizes"
   ]
  },
  {
   "cell_type": "code",
   "execution_count": 64,
   "id": "4f31e80e-7acf-428b-8f78-75ba53baf3b5",
   "metadata": {},
   "outputs": [
    {
     "data": {
      "text/plain": [
       "147.32277488562318"
      ]
     },
     "execution_count": 64,
     "metadata": {},
     "output_type": "execute_result"
    }
   ],
   "source": [
    "# calculation of standard deviation\n",
    "std_of_sizes = np.sqrt(var_of_sizes)\n",
    "std_of_sizes"
   ]
  },
  {
   "cell_type": "markdown",
   "id": "84c571eb-2b60-45cf-ad52-823db4724bc1",
   "metadata": {},
   "source": [
    "#### Standard Deviation:\n",
    "\n",
    "![alt text](std_var_demo4.gif \"Demo4\")\n",
    "\n",
    "##### Source: \"https://www.mathsisfun.com/\""
   ]
  },
  {
   "cell_type": "markdown",
   "id": "540f9a0f-2f26-4eb9-853f-3b18751d7889",
   "metadata": {},
   "source": [
    "## Reshaping & Transposing"
   ]
  },
  {
   "cell_type": "code",
   "execution_count": 65,
   "id": "57d7a788-f00d-4db2-bdf4-4c284c9820c2",
   "metadata": {},
   "outputs": [
    {
     "data": {
      "text/plain": [
       "array([[1. , 2. , 3.3],\n",
       "       [4. , 5. , 6.5]])"
      ]
     },
     "execution_count": 65,
     "metadata": {},
     "output_type": "execute_result"
    }
   ],
   "source": [
    "# Let's remember a2 again\n",
    "a2"
   ]
  },
  {
   "cell_type": "code",
   "execution_count": 66,
   "id": "eae2363d-772c-452e-a5e4-e0f0d672bbb1",
   "metadata": {},
   "outputs": [
    {
     "data": {
      "text/plain": [
       "(2, 3)"
      ]
     },
     "execution_count": 66,
     "metadata": {},
     "output_type": "execute_result"
    }
   ],
   "source": [
    "a2.shape"
   ]
  },
  {
   "cell_type": "code",
   "execution_count": 67,
   "id": "52c67716-d9be-4d81-94e6-13c7df1be7a6",
   "metadata": {},
   "outputs": [
    {
     "data": {
      "text/plain": [
       "(2, 3, 3)"
      ]
     },
     "execution_count": 67,
     "metadata": {},
     "output_type": "execute_result"
    }
   ],
   "source": [
    "a3.shape"
   ]
  },
  {
   "cell_type": "code",
   "execution_count": 68,
   "id": "c59502ec-e10f-4934-8698-9944b7aec436",
   "metadata": {},
   "outputs": [],
   "source": [
    "# Remember => Multiplication of a3 and a2 gives an error due to broadcast problem\n",
    "# a2 * a3"
   ]
  },
  {
   "cell_type": "code",
   "execution_count": 69,
   "id": "5aabde37-5de7-49c5-9138-9e8db542b4ad",
   "metadata": {},
   "outputs": [
    {
     "data": {
      "text/plain": [
       "array([[[1. ],\n",
       "        [2. ],\n",
       "        [3.3]],\n",
       "\n",
       "       [[4. ],\n",
       "        [5. ],\n",
       "        [6.5]]])"
      ]
     },
     "execution_count": 69,
     "metadata": {},
     "output_type": "execute_result"
    }
   ],
   "source": [
    "# Reshaping a2 according to a3 would be the solution\n",
    "a2_reshape = a2.reshape(2, 3, 1)\n",
    "a2_reshape"
   ]
  },
  {
   "cell_type": "code",
   "execution_count": 70,
   "id": "3db48a39-2712-4928-afbb-4106efc3a20c",
   "metadata": {},
   "outputs": [
    {
     "data": {
      "text/plain": [
       "array([[[  1. ,   2. ,   3. ],\n",
       "        [  8. ,  10. ,  12. ],\n",
       "        [ 23.1,  26.4,  29.7]],\n",
       "\n",
       "       [[ 40. ,  44. ,  48. ],\n",
       "        [ 65. ,  70. ,  75. ],\n",
       "        [104. , 110.5, 117. ]]])"
      ]
     },
     "execution_count": 70,
     "metadata": {},
     "output_type": "execute_result"
    }
   ],
   "source": [
    "# This operation doesnt give error\n",
    "a2_reshape * a3"
   ]
  },
  {
   "cell_type": "code",
   "execution_count": 71,
   "id": "5b7c568f-7ce0-4775-9a12-989cabef6612",
   "metadata": {},
   "outputs": [
    {
     "data": {
      "text/plain": [
       "array([[1. , 2. , 3.3],\n",
       "       [4. , 5. , 6.5]])"
      ]
     },
     "execution_count": 71,
     "metadata": {},
     "output_type": "execute_result"
    }
   ],
   "source": [
    "# Transpose => Switches the axis\n",
    "a2"
   ]
  },
  {
   "cell_type": "code",
   "execution_count": 72,
   "id": "61dd4628-7862-46d8-aa08-13744c490bf5",
   "metadata": {},
   "outputs": [
    {
     "data": {
      "text/plain": [
       "array([[1. , 4. ],\n",
       "       [2. , 5. ],\n",
       "       [3.3, 6.5]])"
      ]
     },
     "execution_count": 72,
     "metadata": {},
     "output_type": "execute_result"
    }
   ],
   "source": [
    "a2.T"
   ]
  },
  {
   "cell_type": "code",
   "execution_count": 73,
   "id": "71e52269-ddc6-4624-8710-40a2164b3a68",
   "metadata": {},
   "outputs": [
    {
     "data": {
      "text/plain": [
       "(3, 2)"
      ]
     },
     "execution_count": 73,
     "metadata": {},
     "output_type": "execute_result"
    }
   ],
   "source": [
    "a2.T.shape"
   ]
  },
  {
   "cell_type": "code",
   "execution_count": 74,
   "id": "77bd2966-a33f-4f72-ad8c-2f5483e8ba33",
   "metadata": {},
   "outputs": [
    {
     "data": {
      "text/plain": [
       "array([[[ 1,  2,  3],\n",
       "        [ 4,  5,  6],\n",
       "        [ 7,  8,  9]],\n",
       "\n",
       "       [[10, 11, 12],\n",
       "        [13, 14, 15],\n",
       "        [16, 17, 18]]])"
      ]
     },
     "execution_count": 74,
     "metadata": {},
     "output_type": "execute_result"
    }
   ],
   "source": [
    "a3"
   ]
  },
  {
   "cell_type": "code",
   "execution_count": 75,
   "id": "5ed2f7c4-aa6d-41e1-9940-3148b3099ebc",
   "metadata": {},
   "outputs": [
    {
     "data": {
      "text/plain": [
       "array([[[ 1, 10],\n",
       "        [ 4, 13],\n",
       "        [ 7, 16]],\n",
       "\n",
       "       [[ 2, 11],\n",
       "        [ 5, 14],\n",
       "        [ 8, 17]],\n",
       "\n",
       "       [[ 3, 12],\n",
       "        [ 6, 15],\n",
       "        [ 9, 18]]])"
      ]
     },
     "execution_count": 75,
     "metadata": {},
     "output_type": "execute_result"
    }
   ],
   "source": [
    "a3.T"
   ]
  },
  {
   "cell_type": "code",
   "execution_count": 76,
   "id": "aa6486b4-b4dc-4b6c-b71a-741a889e7b9b",
   "metadata": {},
   "outputs": [
    {
     "data": {
      "text/plain": [
       "(3, 3, 2)"
      ]
     },
     "execution_count": 76,
     "metadata": {},
     "output_type": "execute_result"
    }
   ],
   "source": [
    "a3.T.shape"
   ]
  },
  {
   "cell_type": "markdown",
   "id": "fb4d5c3e-a1cc-4c38-967b-db4fb972b71b",
   "metadata": {},
   "source": [
    "## Element-Wise Multiplication & Dot Product"
   ]
  },
  {
   "cell_type": "code",
   "execution_count": 77,
   "id": "8c0d6353-b387-4a40-aac4-fa92efcfc7c3",
   "metadata": {},
   "outputs": [],
   "source": [
    "np.random.seed(0)\n",
    "mat1 = np.random.randint(0, 10, size=(5, 3))\n",
    "mat2 = np.random.randint(0, 10, size=(5, 3))"
   ]
  },
  {
   "cell_type": "code",
   "execution_count": 78,
   "id": "a5f4a2e3-a134-4460-8065-5d5df92ad92c",
   "metadata": {},
   "outputs": [
    {
     "data": {
      "text/plain": [
       "array([[5, 0, 3],\n",
       "       [3, 7, 9],\n",
       "       [3, 5, 2],\n",
       "       [4, 7, 6],\n",
       "       [8, 8, 1]])"
      ]
     },
     "execution_count": 78,
     "metadata": {},
     "output_type": "execute_result"
    }
   ],
   "source": [
    "mat1"
   ]
  },
  {
   "cell_type": "code",
   "execution_count": 79,
   "id": "ced731ab-84fc-4c60-95ec-4a13bcef1b8f",
   "metadata": {},
   "outputs": [
    {
     "data": {
      "text/plain": [
       "array([[6, 7, 7],\n",
       "       [8, 1, 5],\n",
       "       [9, 8, 9],\n",
       "       [4, 3, 0],\n",
       "       [3, 5, 0]])"
      ]
     },
     "execution_count": 79,
     "metadata": {},
     "output_type": "execute_result"
    }
   ],
   "source": [
    "mat2"
   ]
  },
  {
   "cell_type": "markdown",
   "id": "59971251-ebde-458f-94a3-50fe8a33bf12",
   "metadata": {},
   "source": [
    "#### Element-wise multiplication (Hadamard Product)"
   ]
  },
  {
   "cell_type": "markdown",
   "id": "6a389bde-1708-4bde-a93c-52bff2ebc3ee",
   "metadata": {},
   "source": [
    "![alt text](element-wise.png \"Product\")\n",
    "##### Source: \"https://www.tutorialexample.com/\""
   ]
  },
  {
   "cell_type": "markdown",
   "id": "411759d3-2ecb-424e-8733-5cd70be98e6f",
   "metadata": {},
   "source": [
    "NOTE => According to the element-wise multiplication rule, we can perform this operation if the matrices have (m, n) and (m, n) dimensions."
   ]
  },
  {
   "cell_type": "code",
   "execution_count": 80,
   "id": "6d6d2329-1fd8-4a13-b0e1-c69d71873f3f",
   "metadata": {},
   "outputs": [
    {
     "data": {
      "text/plain": [
       "array([[30,  0, 21],\n",
       "       [24,  7, 45],\n",
       "       [27, 40, 18],\n",
       "       [16, 21,  0],\n",
       "       [24, 40,  0]])"
      ]
     },
     "execution_count": 80,
     "metadata": {},
     "output_type": "execute_result"
    }
   ],
   "source": [
    "mat1 * mat2"
   ]
  },
  {
   "cell_type": "markdown",
   "id": "a3363317-83be-4a86-a40d-a537a1882b96",
   "metadata": {},
   "source": [
    "#### Dot Product"
   ]
  },
  {
   "cell_type": "code",
   "execution_count": 81,
   "id": "4168b896-ac81-472f-a4c5-60baea4bcaf4",
   "metadata": {},
   "outputs": [],
   "source": [
    "# np.dot(mat1, mat2)\n",
    "# It gives error like \"ValueError: shapes (5,3) and (5,3) not aligned: 3 (dim 1) != 5 (dim 0)\""
   ]
  },
  {
   "cell_type": "markdown",
   "id": "a5cd65c8-07c8-41b2-aaf1-51953e5ae22f",
   "metadata": {},
   "source": [
    "![alt text](dot_product.jpg \"Product\") \n",
    "##### Source: \"https://algebra1course.wordpress.com/\""
   ]
  },
  {
   "cell_type": "markdown",
   "id": "f0eb9f88-d48f-4b48-9a55-cb5124423c33",
   "metadata": {},
   "source": [
    "NOTE => According to the dot product rule, we can perform this operation if the matrices have (m, n) and (n, t) dimensions. The product result is (m, t)."
   ]
  },
  {
   "cell_type": "code",
   "execution_count": 82,
   "id": "c48c75e5-d2c9-4b3a-885b-9a2c122474b1",
   "metadata": {},
   "outputs": [
    {
     "data": {
      "text/plain": [
       "((5, 3), (5, 3))"
      ]
     },
     "execution_count": 82,
     "metadata": {},
     "output_type": "execute_result"
    }
   ],
   "source": [
    "# Let's check shapes of them\n",
    "mat1.shape, mat2.shape"
   ]
  },
  {
   "cell_type": "code",
   "execution_count": 83,
   "id": "1565e186-6682-48f6-8765-e3086181685e",
   "metadata": {},
   "outputs": [
    {
     "data": {
      "text/plain": [
       "((5, 3), (3, 5))"
      ]
     },
     "execution_count": 83,
     "metadata": {},
     "output_type": "execute_result"
    }
   ],
   "source": [
    "mat1.shape, mat2.T.shape # (m, n) and (n, m) => (m, m)"
   ]
  },
  {
   "cell_type": "code",
   "execution_count": 84,
   "id": "dbed1707-8774-4342-808c-bf62da596318",
   "metadata": {},
   "outputs": [],
   "source": [
    "dot_product = np.dot(mat1, mat2.T)"
   ]
  },
  {
   "cell_type": "code",
   "execution_count": 85,
   "id": "36ad92bb-6e73-426b-b512-8c8386ed5c0c",
   "metadata": {},
   "outputs": [
    {
     "data": {
      "text/plain": [
       "(5, 5)"
      ]
     },
     "execution_count": 85,
     "metadata": {},
     "output_type": "execute_result"
    }
   ],
   "source": [
    "dot_product.shape"
   ]
  },
  {
   "cell_type": "markdown",
   "id": "62e2548b-5e47-4c84-8f54-f6cc272ba2f8",
   "metadata": {},
   "source": [
    "## Comparison Operators"
   ]
  },
  {
   "cell_type": "code",
   "execution_count": 86,
   "id": "63f20d41-f9c7-4197-a01c-d63f58ea0831",
   "metadata": {},
   "outputs": [
    {
     "data": {
      "text/plain": [
       "array([1, 2, 3])"
      ]
     },
     "execution_count": 86,
     "metadata": {},
     "output_type": "execute_result"
    }
   ],
   "source": [
    "a1 "
   ]
  },
  {
   "cell_type": "code",
   "execution_count": 87,
   "id": "12635460-5104-4789-9ff8-c45282f7eadb",
   "metadata": {},
   "outputs": [
    {
     "data": {
      "text/plain": [
       "array([[1. , 2. , 3.3],\n",
       "       [4. , 5. , 6.5]])"
      ]
     },
     "execution_count": 87,
     "metadata": {},
     "output_type": "execute_result"
    }
   ],
   "source": [
    "a2"
   ]
  },
  {
   "cell_type": "code",
   "execution_count": 88,
   "id": "366e144d-5c42-47bd-922f-b00ee9628259",
   "metadata": {},
   "outputs": [
    {
     "data": {
      "text/plain": [
       "array([[False, False,  True],\n",
       "       [ True,  True,  True]])"
      ]
     },
     "execution_count": 88,
     "metadata": {},
     "output_type": "execute_result"
    }
   ],
   "source": [
    "a1 < a2"
   ]
  },
  {
   "cell_type": "code",
   "execution_count": 89,
   "id": "63f4283a-2042-46a3-b042-a8efffc26c2a",
   "metadata": {},
   "outputs": [
    {
     "data": {
      "text/plain": [
       "array([[ True,  True, False],\n",
       "       [False, False, False]])"
      ]
     },
     "execution_count": 89,
     "metadata": {},
     "output_type": "execute_result"
    }
   ],
   "source": [
    "a1 == a2"
   ]
  },
  {
   "cell_type": "code",
   "execution_count": 90,
   "id": "0f08077f-59a8-46bf-8b66-c5777b667ed3",
   "metadata": {},
   "outputs": [
    {
     "data": {
      "text/plain": [
       "array([[ True,  True, False],\n",
       "       [False, False, False]])"
      ]
     },
     "execution_count": 90,
     "metadata": {},
     "output_type": "execute_result"
    }
   ],
   "source": [
    "bool_array = a1 >= a2\n",
    "bool_array"
   ]
  },
  {
   "cell_type": "code",
   "execution_count": 91,
   "id": "42728aea-76d8-4ef3-a072-a423e678ec4e",
   "metadata": {},
   "outputs": [
    {
     "data": {
      "text/plain": [
       "(numpy.ndarray, dtype('bool'))"
      ]
     },
     "execution_count": 91,
     "metadata": {},
     "output_type": "execute_result"
    }
   ],
   "source": [
    "type(bool_array), bool_array.dtype"
   ]
  },
  {
   "cell_type": "markdown",
   "id": "5ae8f268-cd1b-4e4a-a30e-19d4e7a3a73f",
   "metadata": {},
   "source": [
    "## Sorting Arrays"
   ]
  },
  {
   "cell_type": "code",
   "execution_count": 92,
   "id": "96a818a5-9540-47d8-8053-ccf2030c9ff7",
   "metadata": {},
   "outputs": [
    {
     "data": {
      "text/plain": [
       "array([[ 2,  3,  8,  1,  3],\n",
       "       [13,  3,  3, 14,  7],\n",
       "       [ 0,  1,  9,  9,  0]])"
      ]
     },
     "execution_count": 92,
     "metadata": {},
     "output_type": "execute_result"
    }
   ],
   "source": [
    "random_array = np.random.randint(15, size=(3, 5))\n",
    "random_array"
   ]
  },
  {
   "cell_type": "code",
   "execution_count": 93,
   "id": "84cee3e7-b0d2-48aa-81e0-2a9087816a47",
   "metadata": {},
   "outputs": [
    {
     "data": {
      "text/plain": [
       "array([[ 1,  2,  3,  3,  8],\n",
       "       [ 3,  3,  7, 13, 14],\n",
       "       [ 0,  0,  1,  9,  9]])"
      ]
     },
     "execution_count": 93,
     "metadata": {},
     "output_type": "execute_result"
    }
   ],
   "source": [
    "np.sort(random_array)"
   ]
  },
  {
   "cell_type": "code",
   "execution_count": 94,
   "id": "00efea73-a594-48ce-b6fc-16a29073e323",
   "metadata": {},
   "outputs": [
    {
     "data": {
      "text/plain": [
       "array([[3, 0, 1, 4, 2],\n",
       "       [1, 2, 4, 0, 3],\n",
       "       [0, 4, 1, 2, 3]], dtype=int64)"
      ]
     },
     "execution_count": 94,
     "metadata": {},
     "output_type": "execute_result"
    }
   ],
   "source": [
    "np.argsort(random_array) # Returns the indices of the values according to the result of this operation"
   ]
  },
  {
   "cell_type": "code",
   "execution_count": 95,
   "id": "7d1ed15c-1b33-4c3e-a2eb-dd283645b78d",
   "metadata": {},
   "outputs": [],
   "source": [
    "# Another Example For argsort(), argmax() and argmin()\n",
    "a1 = np.array([3, 1, 2])"
   ]
  },
  {
   "cell_type": "code",
   "execution_count": 96,
   "id": "dfef1f38-c5aa-47b6-abce-5d8a7449c05d",
   "metadata": {},
   "outputs": [
    {
     "data": {
      "text/plain": [
       "array([1, 2, 3])"
      ]
     },
     "execution_count": 96,
     "metadata": {},
     "output_type": "execute_result"
    }
   ],
   "source": [
    "np.sort(a1)"
   ]
  },
  {
   "cell_type": "code",
   "execution_count": 97,
   "id": "eb6e80ff-7e4e-4cb7-9994-fa20e40347d7",
   "metadata": {},
   "outputs": [
    {
     "data": {
      "text/plain": [
       "array([1, 2, 0], dtype=int64)"
      ]
     },
     "execution_count": 97,
     "metadata": {},
     "output_type": "execute_result"
    }
   ],
   "source": [
    "np.argsort(a1)"
   ]
  },
  {
   "cell_type": "code",
   "execution_count": 98,
   "id": "1b55b8be-40dd-4901-9dbf-b4898bce05fc",
   "metadata": {},
   "outputs": [
    {
     "data": {
      "text/plain": [
       "0"
      ]
     },
     "execution_count": 98,
     "metadata": {},
     "output_type": "execute_result"
    }
   ],
   "source": [
    "np.argmax(a1) # Returns the max indice"
   ]
  },
  {
   "cell_type": "code",
   "execution_count": 99,
   "id": "3aad5dc4-32de-4707-8167-b3f175db1584",
   "metadata": {},
   "outputs": [
    {
     "data": {
      "text/plain": [
       "1"
      ]
     },
     "execution_count": 99,
     "metadata": {},
     "output_type": "execute_result"
    }
   ],
   "source": [
    "np.argmin(a1) # Returns the max indice"
   ]
  },
  {
   "cell_type": "code",
   "execution_count": 100,
   "id": "21a36bd3-629b-478d-b650-b8386bba6698",
   "metadata": {},
   "outputs": [
    {
     "data": {
      "text/plain": [
       "array([[ 2,  3,  8,  1,  3],\n",
       "       [13,  3,  3, 14,  7],\n",
       "       [ 0,  1,  9,  9,  0]])"
      ]
     },
     "execution_count": 100,
     "metadata": {},
     "output_type": "execute_result"
    }
   ],
   "source": [
    "# Let's give another example\n",
    "random_array"
   ]
  },
  {
   "cell_type": "code",
   "execution_count": 101,
   "id": "bb036222-2ac6-40ce-990c-200c068c3daa",
   "metadata": {},
   "outputs": [
    {
     "data": {
      "text/plain": [
       "array([1, 0, 2, 1, 1], dtype=int64)"
      ]
     },
     "execution_count": 101,
     "metadata": {},
     "output_type": "execute_result"
    }
   ],
   "source": [
    "np.argmax(random_array, axis=0) "
   ]
  },
  {
   "cell_type": "code",
   "execution_count": 102,
   "id": "b253ffd2-e830-462c-a98c-15dc14e45794",
   "metadata": {},
   "outputs": [
    {
     "data": {
      "text/plain": [
       "array([2, 3, 2], dtype=int64)"
      ]
     },
     "execution_count": 102,
     "metadata": {},
     "output_type": "execute_result"
    }
   ],
   "source": [
    "np.argmax(random_array, axis=1) "
   ]
  }
 ],
 "metadata": {
  "kernelspec": {
   "display_name": "Python 3 (ipykernel)",
   "language": "python",
   "name": "python3"
  },
  "language_info": {
   "codemirror_mode": {
    "name": "ipython",
    "version": 3
   },
   "file_extension": ".py",
   "mimetype": "text/x-python",
   "name": "python",
   "nbconvert_exporter": "python",
   "pygments_lexer": "ipython3",
   "version": "3.9.7"
  }
 },
 "nbformat": 4,
 "nbformat_minor": 5
}
